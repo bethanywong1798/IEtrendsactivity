{
  "nbformat": 4,
  "nbformat_minor": 0,
  "metadata": {
    "colab": {
      "name": "IE-Trends Programming ",
      "provenance": [],
      "authorship_tag": "ABX9TyOClKGdnpEfvPAzZZkO+yAf",
      "include_colab_link": true
    },
    "kernelspec": {
      "name": "python3",
      "display_name": "Python 3"
    },
    "language_info": {
      "name": "python"
    }
  },
  "cells": [
    {
      "cell_type": "markdown",
      "metadata": {
        "id": "view-in-github",
        "colab_type": "text"
      },
      "source": [
        "<a href=\"https://colab.research.google.com/github/bethanywong1798/IEtrendsactivity/blob/main/IE_Trends_Programming.ipynb\" target=\"_parent\"><img src=\"https://colab.research.google.com/assets/colab-badge.svg\" alt=\"Open In Colab\"/></a>"
      ]
    },
    {
      "cell_type": "markdown",
      "metadata": {
        "id": "-rrjiPdivLWZ"
      },
      "source": [
        "# Python Basics\n",
        "This section reviews programming fundamentals using Phython"
      ]
    },
    {
      "cell_type": "markdown",
      "metadata": {
        "id": "Sxr9vBPCvEUv"
      },
      "source": [
        "# Variables and Values"
      ]
    },
    {
      "cell_type": "code",
      "metadata": {
        "id": "CrHS5ydNxAEU"
      },
      "source": [
        "x = 1\n",
        "a = 'a'\n",
        "y = 3.4"
      ],
      "execution_count": 45,
      "outputs": []
    },
    {
      "cell_type": "code",
      "metadata": {
        "id": "fD1AsyAaxS75"
      },
      "source": [
        "x = 10\n",
        "y = 3.14"
      ],
      "execution_count": 46,
      "outputs": []
    },
    {
      "cell_type": "markdown",
      "metadata": {
        "id": "oKdoaOXMyZmr"
      },
      "source": [
        "# Printing"
      ]
    },
    {
      "cell_type": "code",
      "metadata": {
        "colab": {
          "base_uri": "https://localhost:8080/"
        },
        "id": "zmvHXAQsyjDD",
        "outputId": "dc23f274-725e-4a96-c645-5609edefec3d"
      },
      "source": [
        "print (x,y)"
      ],
      "execution_count": 47,
      "outputs": [
        {
          "output_type": "stream",
          "text": [
            "10 3.14\n"
          ],
          "name": "stdout"
        }
      ]
    },
    {
      "cell_type": "markdown",
      "metadata": {
        "id": "uENkM_k-zUUa"
      },
      "source": [
        "Operations"
      ]
    },
    {
      "cell_type": "code",
      "metadata": {
        "id": "sO19u7aAzWmL"
      },
      "source": [
        "## Addition (also a comment line)\n",
        "z1 = x+y\n",
        "## Subtract\n",
        "z2 = x-y\n",
        "## Multiplication\n",
        "z3 = x*y\n",
        "## Division\n",
        "z4 = x/y"
      ],
      "execution_count": 48,
      "outputs": []
    },
    {
      "cell_type": "code",
      "metadata": {
        "colab": {
          "base_uri": "https://localhost:8080/"
        },
        "id": "f0r1eHpUzcFw",
        "outputId": "4524e11f-52e0-4ce1-8f58-795bac7a1ce0"
      },
      "source": [
        "## Exponentiation\n",
        "z5 = 2**5\n",
        "## Floor Division\n",
        "z6 = x // y\n",
        "## Trigonometric \n",
        "import math\n",
        "math.sin(y) + math.cos(x)"
      ],
      "execution_count": 49,
      "outputs": [
        {
          "output_type": "execute_result",
          "data": {
            "text/plain": [
              "-0.8374788761599656"
            ]
          },
          "metadata": {
            "tags": []
          },
          "execution_count": 49
        }
      ]
    },
    {
      "cell_type": "markdown",
      "metadata": {
        "id": "Vr1VPqgC2yr9"
      },
      "source": [
        "## loops"
      ]
    },
    {
      "cell_type": "markdown",
      "metadata": {
        "id": "dzHn6Q5F30S_"
      },
      "source": [
        "$\n",
        "\\sin(i)+\\cos(i+\\pi)$"
      ]
    },
    {
      "cell_type": "code",
      "metadata": {
        "colab": {
          "base_uri": "https://localhost:8080/"
        },
        "id": "2OZ8wxC721Bp",
        "outputId": "097fc382-aba9-4bef-ac2d-557ec641b9a3"
      },
      "source": [
        "tz=0\n",
        "for i in range(0,10):\n",
        "     tz += math.sin(i) + math.cos(i+math.pi)\n",
        "     print (tz)"
      ],
      "execution_count": 59,
      "outputs": [
        {
          "output_type": "stream",
          "text": [
            "-1.0\n",
            "-0.6988313210602433\n",
            "0.6266129423125808\n",
            "1.7577254469728933\n",
            "1.6545665725285772\n",
            "0.41198011240221266\n",
            "-0.827605672447079\n",
            "-0.9245213280715947\n",
            "0.2103369523604004\n",
            "1.533585699486834\n"
          ],
          "name": "stdout"
        }
      ]
    },
    {
      "cell_type": "markdown",
      "metadata": {
        "id": "mdlY5D7g57Ne"
      },
      "source": [
        "# Functions"
      ]
    },
    {
      "cell_type": "markdown",
      "metadata": {
        "id": "AXaQrSaV6J9n"
      },
      "source": [
        "$S - i^2\n"
      ]
    },
    {
      "cell_type": "code",
      "metadata": {
        "colab": {
          "base_uri": "https://localhost:8080/"
        },
        "id": "NeN8DZNE5-S1",
        "outputId": "481b170b-cd32-4a01-88dc-43ecc90f6cc4"
      },
      "source": [
        "s=0\n",
        "for i in range (0,10):\n",
        "    s+=i\n",
        "    print( equation1 (s,i))"
      ],
      "execution_count": 62,
      "outputs": [
        {
          "output_type": "stream",
          "text": [
            "0\n",
            "0\n",
            "-1\n",
            "-3\n",
            "-6\n",
            "-10\n",
            "-15\n",
            "-21\n",
            "-28\n",
            "-36\n"
          ],
          "name": "stdout"
        }
      ]
    },
    {
      "cell_type": "code",
      "metadata": {
        "id": "i2LICOSu6teH"
      },
      "source": [
        "def equation1 ( s, i ) :\n",
        "  return s-i**2"
      ],
      "execution_count": 61,
      "outputs": []
    },
    {
      "cell_type": "code",
      "metadata": {
        "id": "k3ZVQBPP6ruA"
      },
      "source": [
        ""
      ],
      "execution_count": null,
      "outputs": []
    },
    {
      "cell_type": "markdown",
      "metadata": {
        "id": "ZMtEBxzZ-Lgc"
      },
      "source": [
        "# Linear Regression\n"
      ]
    }
  ]
}